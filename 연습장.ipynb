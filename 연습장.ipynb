{
 "cells": [
  {
   "cell_type": "code",
   "execution_count": 6,
   "metadata": {},
   "outputs": [],
   "source": [
    "        \n",
    "with open(\"./videoPlayer.py\" , \"r\") as f:\n",
    "    d = f.read()\n",
    "\n",
    "for i in range(2 , 37):\n",
    "    x = f'''                \n",
    "            self.ui.cmraBt_{i:02d}.setIconSize(self.ui.cmraBt_{i:02d}.size())'''\n",
    "    d+=x\n",
    "with open(\"./videoPlayer2.py\" , \"w\") as f:\n",
    "    f.write(d)"
   ]
  },
  {
   "cell_type": "code",
   "execution_count": null,
   "metadata": {},
   "outputs": [],
   "source": []
  }
 ],
 "metadata": {
  "interpreter": {
   "hash": "c7bcb5781954786268d66b5ec837f4fc1cff88812bb23a44c8cb860853184759"
  },
  "kernelspec": {
   "display_name": "Python 3.8.11 64-bit ('py382': conda)",
   "language": "python",
   "name": "python3"
  },
  "language_info": {
   "codemirror_mode": {
    "name": "ipython",
    "version": 3
   },
   "file_extension": ".py",
   "mimetype": "text/x-python",
   "name": "python",
   "nbconvert_exporter": "python",
   "pygments_lexer": "ipython3",
   "version": "3.8.11"
  },
  "orig_nbformat": 4
 },
 "nbformat": 4,
 "nbformat_minor": 2
}
