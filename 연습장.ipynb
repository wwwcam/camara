{
 "cells": [
  {
   "cell_type": "code",
   "execution_count": 12,
   "metadata": {},
   "outputs": [],
   "source": [
    "        \n",
    "with open(\"./btnEvent.py\" , \"r\") as f:\n",
    "    d = f.read()\n",
    "\n",
    "for i in range(4 , 37,3):\n",
    "    x = f'''                        self.ui.cmraBt_%02d,self.ui.cmraBt_%02d,self.ui.cmraBt_%02d,\\n'''%(i,i+1,i+2)\n",
    "    d+=x\n",
    "with open(\"./btnEvent2.py\" , \"w\") as f:\n",
    "    f.write(d)"
   ]
  },
  {
   "cell_type": "code",
   "execution_count": 7,
   "metadata": {},
   "outputs": [],
   "source": [
    "import numpy as np"
   ]
  },
  {
   "cell_type": "code",
   "execution_count": 8,
   "metadata": {},
   "outputs": [
    {
     "data": {
      "text/plain": [
       "array([[[[0., 0., 0., ..., 0., 0., 0.],\n",
       "         [0., 0., 0., ..., 0., 0., 0.],\n",
       "         [0., 0., 0., ..., 0., 0., 0.],\n",
       "         ...,\n",
       "         [0., 0., 0., ..., 0., 0., 0.],\n",
       "         [0., 0., 0., ..., 0., 0., 0.],\n",
       "         [0., 0., 0., ..., 0., 0., 0.]],\n",
       "\n",
       "        [[0., 0., 0., ..., 0., 0., 0.],\n",
       "         [0., 0., 0., ..., 0., 0., 0.],\n",
       "         [0., 0., 0., ..., 0., 0., 0.],\n",
       "         ...,\n",
       "         [0., 0., 0., ..., 0., 0., 0.],\n",
       "         [0., 0., 0., ..., 0., 0., 0.],\n",
       "         [0., 0., 0., ..., 0., 0., 0.]],\n",
       "\n",
       "        [[0., 0., 0., ..., 0., 0., 0.],\n",
       "         [0., 0., 0., ..., 0., 0., 0.],\n",
       "         [0., 0., 0., ..., 0., 0., 0.],\n",
       "         ...,\n",
       "         [0., 0., 0., ..., 0., 0., 0.],\n",
       "         [0., 0., 0., ..., 0., 0., 0.],\n",
       "         [0., 0., 0., ..., 0., 0., 0.]],\n",
       "\n",
       "        ...,\n",
       "\n",
       "        [[0., 0., 0., ..., 0., 0., 0.],\n",
       "         [0., 0., 0., ..., 0., 0., 0.],\n",
       "         [0., 0., 0., ..., 0., 0., 0.],\n",
       "         ...,\n",
       "         [0., 0., 0., ..., 0., 0., 0.],\n",
       "         [0., 0., 0., ..., 0., 0., 0.],\n",
       "         [0., 0., 0., ..., 0., 0., 0.]],\n",
       "\n",
       "        [[0., 0., 0., ..., 0., 0., 0.],\n",
       "         [0., 0., 0., ..., 0., 0., 0.],\n",
       "         [0., 0., 0., ..., 0., 0., 0.],\n",
       "         ...,\n",
       "         [0., 0., 0., ..., 0., 0., 0.],\n",
       "         [0., 0., 0., ..., 0., 0., 0.],\n",
       "         [0., 0., 0., ..., 0., 0., 0.]],\n",
       "\n",
       "        [[0., 0., 0., ..., 0., 0., 0.],\n",
       "         [0., 0., 0., ..., 0., 0., 0.],\n",
       "         [0., 0., 0., ..., 0., 0., 0.],\n",
       "         ...,\n",
       "         [0., 0., 0., ..., 0., 0., 0.],\n",
       "         [0., 0., 0., ..., 0., 0., 0.],\n",
       "         [0., 0., 0., ..., 0., 0., 0.]]],\n",
       "\n",
       "\n",
       "       [[[0., 0., 0., ..., 0., 0., 0.],\n",
       "         [0., 0., 0., ..., 0., 0., 0.],\n",
       "         [0., 0., 0., ..., 0., 0., 0.],\n",
       "         ...,\n",
       "         [0., 0., 0., ..., 0., 0., 0.],\n",
       "         [0., 0., 0., ..., 0., 0., 0.],\n",
       "         [0., 0., 0., ..., 0., 0., 0.]],\n",
       "\n",
       "        [[0., 0., 0., ..., 0., 0., 0.],\n",
       "         [0., 0., 0., ..., 0., 0., 0.],\n",
       "         [0., 0., 0., ..., 0., 0., 0.],\n",
       "         ...,\n",
       "         [0., 0., 0., ..., 0., 0., 0.],\n",
       "         [0., 0., 0., ..., 0., 0., 0.],\n",
       "         [0., 0., 0., ..., 0., 0., 0.]],\n",
       "\n",
       "        [[0., 0., 0., ..., 0., 0., 0.],\n",
       "         [0., 0., 0., ..., 0., 0., 0.],\n",
       "         [0., 0., 0., ..., 0., 0., 0.],\n",
       "         ...,\n",
       "         [0., 0., 0., ..., 0., 0., 0.],\n",
       "         [0., 0., 0., ..., 0., 0., 0.],\n",
       "         [0., 0., 0., ..., 0., 0., 0.]],\n",
       "\n",
       "        ...,\n",
       "\n",
       "        [[0., 0., 0., ..., 0., 0., 0.],\n",
       "         [0., 0., 0., ..., 0., 0., 0.],\n",
       "         [0., 0., 0., ..., 0., 0., 0.],\n",
       "         ...,\n",
       "         [0., 0., 0., ..., 0., 0., 0.],\n",
       "         [0., 0., 0., ..., 0., 0., 0.],\n",
       "         [0., 0., 0., ..., 0., 0., 0.]],\n",
       "\n",
       "        [[0., 0., 0., ..., 0., 0., 0.],\n",
       "         [0., 0., 0., ..., 0., 0., 0.],\n",
       "         [0., 0., 0., ..., 0., 0., 0.],\n",
       "         ...,\n",
       "         [0., 0., 0., ..., 0., 0., 0.],\n",
       "         [0., 0., 0., ..., 0., 0., 0.],\n",
       "         [0., 0., 0., ..., 0., 0., 0.]],\n",
       "\n",
       "        [[0., 0., 0., ..., 0., 0., 0.],\n",
       "         [0., 0., 0., ..., 0., 0., 0.],\n",
       "         [0., 0., 0., ..., 0., 0., 0.],\n",
       "         ...,\n",
       "         [0., 0., 0., ..., 0., 0., 0.],\n",
       "         [0., 0., 0., ..., 0., 0., 0.],\n",
       "         [0., 0., 0., ..., 0., 0., 0.]]],\n",
       "\n",
       "\n",
       "       [[[0., 0., 0., ..., 0., 0., 0.],\n",
       "         [0., 0., 0., ..., 0., 0., 0.],\n",
       "         [0., 0., 0., ..., 0., 0., 0.],\n",
       "         ...,\n",
       "         [0., 0., 0., ..., 0., 0., 0.],\n",
       "         [0., 0., 0., ..., 0., 0., 0.],\n",
       "         [0., 0., 0., ..., 0., 0., 0.]],\n",
       "\n",
       "        [[0., 0., 0., ..., 0., 0., 0.],\n",
       "         [0., 0., 0., ..., 0., 0., 0.],\n",
       "         [0., 0., 0., ..., 0., 0., 0.],\n",
       "         ...,\n",
       "         [0., 0., 0., ..., 0., 0., 0.],\n",
       "         [0., 0., 0., ..., 0., 0., 0.],\n",
       "         [0., 0., 0., ..., 0., 0., 0.]],\n",
       "\n",
       "        [[0., 0., 0., ..., 0., 0., 0.],\n",
       "         [0., 0., 0., ..., 0., 0., 0.],\n",
       "         [0., 0., 0., ..., 0., 0., 0.],\n",
       "         ...,\n",
       "         [0., 0., 0., ..., 0., 0., 0.],\n",
       "         [0., 0., 0., ..., 0., 0., 0.],\n",
       "         [0., 0., 0., ..., 0., 0., 0.]],\n",
       "\n",
       "        ...,\n",
       "\n",
       "        [[0., 0., 0., ..., 0., 0., 0.],\n",
       "         [0., 0., 0., ..., 0., 0., 0.],\n",
       "         [0., 0., 0., ..., 0., 0., 0.],\n",
       "         ...,\n",
       "         [0., 0., 0., ..., 0., 0., 0.],\n",
       "         [0., 0., 0., ..., 0., 0., 0.],\n",
       "         [0., 0., 0., ..., 0., 0., 0.]],\n",
       "\n",
       "        [[0., 0., 0., ..., 0., 0., 0.],\n",
       "         [0., 0., 0., ..., 0., 0., 0.],\n",
       "         [0., 0., 0., ..., 0., 0., 0.],\n",
       "         ...,\n",
       "         [0., 0., 0., ..., 0., 0., 0.],\n",
       "         [0., 0., 0., ..., 0., 0., 0.],\n",
       "         [0., 0., 0., ..., 0., 0., 0.]],\n",
       "\n",
       "        [[0., 0., 0., ..., 0., 0., 0.],\n",
       "         [0., 0., 0., ..., 0., 0., 0.],\n",
       "         [0., 0., 0., ..., 0., 0., 0.],\n",
       "         ...,\n",
       "         [0., 0., 0., ..., 0., 0., 0.],\n",
       "         [0., 0., 0., ..., 0., 0., 0.],\n",
       "         [0., 0., 0., ..., 0., 0., 0.]]],\n",
       "\n",
       "\n",
       "       ...,\n",
       "\n",
       "\n",
       "       [[[0., 0., 0., ..., 0., 0., 0.],\n",
       "         [0., 0., 0., ..., 0., 0., 0.],\n",
       "         [0., 0., 0., ..., 0., 0., 0.],\n",
       "         ...,\n",
       "         [0., 0., 0., ..., 0., 0., 0.],\n",
       "         [0., 0., 0., ..., 0., 0., 0.],\n",
       "         [0., 0., 0., ..., 0., 0., 0.]],\n",
       "\n",
       "        [[0., 0., 0., ..., 0., 0., 0.],\n",
       "         [0., 0., 0., ..., 0., 0., 0.],\n",
       "         [0., 0., 0., ..., 0., 0., 0.],\n",
       "         ...,\n",
       "         [0., 0., 0., ..., 0., 0., 0.],\n",
       "         [0., 0., 0., ..., 0., 0., 0.],\n",
       "         [0., 0., 0., ..., 0., 0., 0.]],\n",
       "\n",
       "        [[0., 0., 0., ..., 0., 0., 0.],\n",
       "         [0., 0., 0., ..., 0., 0., 0.],\n",
       "         [0., 0., 0., ..., 0., 0., 0.],\n",
       "         ...,\n",
       "         [0., 0., 0., ..., 0., 0., 0.],\n",
       "         [0., 0., 0., ..., 0., 0., 0.],\n",
       "         [0., 0., 0., ..., 0., 0., 0.]],\n",
       "\n",
       "        ...,\n",
       "\n",
       "        [[0., 0., 0., ..., 0., 0., 0.],\n",
       "         [0., 0., 0., ..., 0., 0., 0.],\n",
       "         [0., 0., 0., ..., 0., 0., 0.],\n",
       "         ...,\n",
       "         [0., 0., 0., ..., 0., 0., 0.],\n",
       "         [0., 0., 0., ..., 0., 0., 0.],\n",
       "         [0., 0., 0., ..., 0., 0., 0.]],\n",
       "\n",
       "        [[0., 0., 0., ..., 0., 0., 0.],\n",
       "         [0., 0., 0., ..., 0., 0., 0.],\n",
       "         [0., 0., 0., ..., 0., 0., 0.],\n",
       "         ...,\n",
       "         [0., 0., 0., ..., 0., 0., 0.],\n",
       "         [0., 0., 0., ..., 0., 0., 0.],\n",
       "         [0., 0., 0., ..., 0., 0., 0.]],\n",
       "\n",
       "        [[0., 0., 0., ..., 0., 0., 0.],\n",
       "         [0., 0., 0., ..., 0., 0., 0.],\n",
       "         [0., 0., 0., ..., 0., 0., 0.],\n",
       "         ...,\n",
       "         [0., 0., 0., ..., 0., 0., 0.],\n",
       "         [0., 0., 0., ..., 0., 0., 0.],\n",
       "         [0., 0., 0., ..., 0., 0., 0.]]],\n",
       "\n",
       "\n",
       "       [[[0., 0., 0., ..., 0., 0., 0.],\n",
       "         [0., 0., 0., ..., 0., 0., 0.],\n",
       "         [0., 0., 0., ..., 0., 0., 0.],\n",
       "         ...,\n",
       "         [0., 0., 0., ..., 0., 0., 0.],\n",
       "         [0., 0., 0., ..., 0., 0., 0.],\n",
       "         [0., 0., 0., ..., 0., 0., 0.]],\n",
       "\n",
       "        [[0., 0., 0., ..., 0., 0., 0.],\n",
       "         [0., 0., 0., ..., 0., 0., 0.],\n",
       "         [0., 0., 0., ..., 0., 0., 0.],\n",
       "         ...,\n",
       "         [0., 0., 0., ..., 0., 0., 0.],\n",
       "         [0., 0., 0., ..., 0., 0., 0.],\n",
       "         [0., 0., 0., ..., 0., 0., 0.]],\n",
       "\n",
       "        [[0., 0., 0., ..., 0., 0., 0.],\n",
       "         [0., 0., 0., ..., 0., 0., 0.],\n",
       "         [0., 0., 0., ..., 0., 0., 0.],\n",
       "         ...,\n",
       "         [0., 0., 0., ..., 0., 0., 0.],\n",
       "         [0., 0., 0., ..., 0., 0., 0.],\n",
       "         [0., 0., 0., ..., 0., 0., 0.]],\n",
       "\n",
       "        ...,\n",
       "\n",
       "        [[0., 0., 0., ..., 0., 0., 0.],\n",
       "         [0., 0., 0., ..., 0., 0., 0.],\n",
       "         [0., 0., 0., ..., 0., 0., 0.],\n",
       "         ...,\n",
       "         [0., 0., 0., ..., 0., 0., 0.],\n",
       "         [0., 0., 0., ..., 0., 0., 0.],\n",
       "         [0., 0., 0., ..., 0., 0., 0.]],\n",
       "\n",
       "        [[0., 0., 0., ..., 0., 0., 0.],\n",
       "         [0., 0., 0., ..., 0., 0., 0.],\n",
       "         [0., 0., 0., ..., 0., 0., 0.],\n",
       "         ...,\n",
       "         [0., 0., 0., ..., 0., 0., 0.],\n",
       "         [0., 0., 0., ..., 0., 0., 0.],\n",
       "         [0., 0., 0., ..., 0., 0., 0.]],\n",
       "\n",
       "        [[0., 0., 0., ..., 0., 0., 0.],\n",
       "         [0., 0., 0., ..., 0., 0., 0.],\n",
       "         [0., 0., 0., ..., 0., 0., 0.],\n",
       "         ...,\n",
       "         [0., 0., 0., ..., 0., 0., 0.],\n",
       "         [0., 0., 0., ..., 0., 0., 0.],\n",
       "         [0., 0., 0., ..., 0., 0., 0.]]],\n",
       "\n",
       "\n",
       "       [[[0., 0., 0., ..., 0., 0., 0.],\n",
       "         [0., 0., 0., ..., 0., 0., 0.],\n",
       "         [0., 0., 0., ..., 0., 0., 0.],\n",
       "         ...,\n",
       "         [0., 0., 0., ..., 0., 0., 0.],\n",
       "         [0., 0., 0., ..., 0., 0., 0.],\n",
       "         [0., 0., 0., ..., 0., 0., 0.]],\n",
       "\n",
       "        [[0., 0., 0., ..., 0., 0., 0.],\n",
       "         [0., 0., 0., ..., 0., 0., 0.],\n",
       "         [0., 0., 0., ..., 0., 0., 0.],\n",
       "         ...,\n",
       "         [0., 0., 0., ..., 0., 0., 0.],\n",
       "         [0., 0., 0., ..., 0., 0., 0.],\n",
       "         [0., 0., 0., ..., 0., 0., 0.]],\n",
       "\n",
       "        [[0., 0., 0., ..., 0., 0., 0.],\n",
       "         [0., 0., 0., ..., 0., 0., 0.],\n",
       "         [0., 0., 0., ..., 0., 0., 0.],\n",
       "         ...,\n",
       "         [0., 0., 0., ..., 0., 0., 0.],\n",
       "         [0., 0., 0., ..., 0., 0., 0.],\n",
       "         [0., 0., 0., ..., 0., 0., 0.]],\n",
       "\n",
       "        ...,\n",
       "\n",
       "        [[0., 0., 0., ..., 0., 0., 0.],\n",
       "         [0., 0., 0., ..., 0., 0., 0.],\n",
       "         [0., 0., 0., ..., 0., 0., 0.],\n",
       "         ...,\n",
       "         [0., 0., 0., ..., 0., 0., 0.],\n",
       "         [0., 0., 0., ..., 0., 0., 0.],\n",
       "         [0., 0., 0., ..., 0., 0., 0.]],\n",
       "\n",
       "        [[0., 0., 0., ..., 0., 0., 0.],\n",
       "         [0., 0., 0., ..., 0., 0., 0.],\n",
       "         [0., 0., 0., ..., 0., 0., 0.],\n",
       "         ...,\n",
       "         [0., 0., 0., ..., 0., 0., 0.],\n",
       "         [0., 0., 0., ..., 0., 0., 0.],\n",
       "         [0., 0., 0., ..., 0., 0., 0.]],\n",
       "\n",
       "        [[0., 0., 0., ..., 0., 0., 0.],\n",
       "         [0., 0., 0., ..., 0., 0., 0.],\n",
       "         [0., 0., 0., ..., 0., 0., 0.],\n",
       "         ...,\n",
       "         [0., 0., 0., ..., 0., 0., 0.],\n",
       "         [0., 0., 0., ..., 0., 0., 0.],\n",
       "         [0., 0., 0., ..., 0., 0., 0.]]]])"
      ]
     },
     "execution_count": 8,
     "metadata": {},
     "output_type": "execute_result"
    }
   ],
   "source": [
    "np.zeros((10,10,10,10))"
   ]
  },
  {
   "cell_type": "code",
   "execution_count": 9,
   "metadata": {},
   "outputs": [
    {
     "name": "stdout",
     "output_type": "stream",
     "text": [
      "self.ui.cmraBt_02 = DragBtn(self.ui.dragCamBase)\n",
      "self.ui.cmraBt_03 = DragBtn(self.ui.dragCamBase)\n",
      "self.ui.cmraBt_04 = DragBtn(self.ui.dragCamBase)\n",
      "self.ui.cmraBt_05 = DragBtn(self.ui.dragCamBase)\n",
      "self.ui.cmraBt_06 = DragBtn(self.ui.dragCamBase)\n",
      "self.ui.cmraBt_07 = DragBtn(self.ui.dragCamBase)\n",
      "self.ui.cmraBt_08 = DragBtn(self.ui.dragCamBase)\n",
      "self.ui.cmraBt_09 = DragBtn(self.ui.dragCamBase)\n",
      "self.ui.cmraBt_10 = DragBtn(self.ui.dragCamBase)\n",
      "self.ui.cmraBt_11 = DragBtn(self.ui.dragCamBase)\n",
      "self.ui.cmraBt_12 = DragBtn(self.ui.dragCamBase)\n",
      "self.ui.cmraBt_13 = DragBtn(self.ui.dragCamBase)\n",
      "self.ui.cmraBt_14 = DragBtn(self.ui.dragCamBase)\n",
      "self.ui.cmraBt_15 = DragBtn(self.ui.dragCamBase)\n",
      "self.ui.cmraBt_16 = DragBtn(self.ui.dragCamBase)\n",
      "self.ui.cmraBt_17 = DragBtn(self.ui.dragCamBase)\n",
      "self.ui.cmraBt_18 = DragBtn(self.ui.dragCamBase)\n",
      "self.ui.cmraBt_19 = DragBtn(self.ui.dragCamBase)\n",
      "self.ui.cmraBt_20 = DragBtn(self.ui.dragCamBase)\n",
      "self.ui.cmraBt_21 = DragBtn(self.ui.dragCamBase)\n",
      "self.ui.cmraBt_22 = DragBtn(self.ui.dragCamBase)\n",
      "self.ui.cmraBt_23 = DragBtn(self.ui.dragCamBase)\n",
      "self.ui.cmraBt_24 = DragBtn(self.ui.dragCamBase)\n",
      "self.ui.cmraBt_25 = DragBtn(self.ui.dragCamBase)\n",
      "self.ui.cmraBt_26 = DragBtn(self.ui.dragCamBase)\n",
      "self.ui.cmraBt_27 = DragBtn(self.ui.dragCamBase)\n",
      "self.ui.cmraBt_28 = DragBtn(self.ui.dragCamBase)\n",
      "self.ui.cmraBt_29 = DragBtn(self.ui.dragCamBase)\n",
      "self.ui.cmraBt_30 = DragBtn(self.ui.dragCamBase)\n",
      "self.ui.cmraBt_31 = DragBtn(self.ui.dragCamBase)\n",
      "self.ui.cmraBt_32 = DragBtn(self.ui.dragCamBase)\n"
     ]
    }
   ],
   "source": [
    "with open(\"./btnEvent.py\" , \"r\") as f:\n",
    "    x = f.read()\n",
    "with open(\"./btnEvent_backup.py\" , \"w\") as f:\n",
    "    f.write(x)\n",
    "\n",
    "import re\n",
    "\n",
    "xs = re.findall('self\\.ui\\.cmraBt\\_[0-9]+ \\= DragBtn\\(self\\.ui\\.dragCamBase\\)',x)\n",
    "for xx in xs:\n",
    "    print(xx)\n",
    "    num = xx.split('self.ui.cmraBt_')[1].split(\" =\")[0]\n",
    "    x = x.replace(f'self.ui.cmraBt_{num} = DragBtn(self.ui.dragCamBase)' , \n",
    "    f'self.ui.cmraBt_{num} = DragBtn(self.ui.dragCamBase)\\n        self.ui.cmraBt_{num}.func = self.showSetting{num}')\n",
    "\n",
    "with open(\"./btnEvent2.py\" , \"w\") as f:\n",
    "    f.write(x)"
   ]
  },
  {
   "cell_type": "code",
   "execution_count": 19,
   "metadata": {},
   "outputs": [
    {
     "name": "stdout",
     "output_type": "stream",
     "text": [
      "self.cameras = {\"cam01\" : self.ui.cmraBt_01, \"cam02\" : self.ui.cmraBt_02, \"cam03\" : self.ui.cmraBt_03, \n",
      "\"cam04\" : self.ui.cmraBt_04, \"cam05\" : self.ui.cmraBt_05, \"cam06\" : self.ui.cmraBt_06, \"cam07\" : self.ui.cmraBt_07, \n",
      "\"cam08\" : self.ui.cmraBt_08, \"cam09\" : self.ui.cmraBt_09, \"cam10\" : self.ui.cmraBt_10, \"cam11\" : self.ui.cmraBt_11, \n",
      "\"cam12\" : self.ui.cmraBt_12, \"cam13\" : self.ui.cmraBt_13, \"cam14\" : self.ui.cmraBt_14, \"cam15\" : self.ui.cmraBt_15, \n",
      "\"cam16\" : self.ui.cmraBt_16, \"cam17\" : self.ui.cmraBt_17, \"cam18\" : self.ui.cmraBt_18, \"cam19\" : self.ui.cmraBt_19, \n",
      "\"cam20\" : self.ui.cmraBt_20, \"cam21\" : self.ui.cmraBt_21, \"cam22\" : self.ui.cmraBt_22, \"cam23\" : self.ui.cmraBt_23, \n",
      "\"cam24\" : self.ui.cmraBt_24, \"cam25\" : self.ui.cmraBt_25, \"cam26\" : self.ui.cmraBt_26, \"cam27\" : self.ui.cmraBt_27, \n",
      "\"cam28\" : self.ui.cmraBt_28, \"cam29\" : self.ui.cmraBt_29, \"cam30\" : self.ui.cmraBt_30, \"cam31\" : self.ui.cmraBt_31, \n",
      "\"cam32\" : self.ui.cmraBt_32, \n"
     ]
    }
   ],
   "source": [
    "tmp = 'self.cameras = {'\n",
    "for i in range(1, 33):\n",
    "    tmp += f'\"cam{i:02d}\" : self.ui.cmraBt_{i:02d}, '\n",
    "    if i%4 == 3:\n",
    "        tmp+=\"\\n\"\n",
    "print(tmp)"
   ]
  },
  {
   "cell_type": "code",
   "execution_count": 20,
   "metadata": {},
   "outputs": [],
   "source": [
    "import cv2"
   ]
  },
  {
   "cell_type": "code",
   "execution_count": 29,
   "metadata": {},
   "outputs": [],
   "source": [
    "video = cv2.VideoCapture(\"http://195.196.36.242/mjpg/video.mjpg\")"
   ]
  },
  {
   "cell_type": "code",
   "execution_count": 32,
   "metadata": {},
   "outputs": [
    {
     "name": "stdout",
     "output_type": "stream",
     "text": [
      "[[[  0   0   0]\n",
      "  [  4   4   4]\n",
      "  [  0   0   0]\n",
      "  ...\n",
      "  [  0   0   0]\n",
      "  [  0   0   0]\n",
      "  [  0   0   0]]\n",
      "\n",
      " [[  0   0   0]\n",
      "  [  1   1   1]\n",
      "  [ 15  15  15]\n",
      "  ...\n",
      "  [  0   0   0]\n",
      "  [  0   0   0]\n",
      "  [  0   0   0]]\n",
      "\n",
      " [[ 16  16  16]\n",
      "  [  0   0   0]\n",
      "  [  3   3   3]\n",
      "  ...\n",
      "  [  0   0   0]\n",
      "  [  0   0   0]\n",
      "  [  0   0   0]]\n",
      "\n",
      " ...\n",
      "\n",
      " [[ 79 104 102]\n",
      "  [ 80 105 103]\n",
      "  [ 84 104 103]\n",
      "  ...\n",
      "  [ 61  61  61]\n",
      "  [ 67  67  67]\n",
      "  [ 61  61  61]]\n",
      "\n",
      " [[ 84 104 103]\n",
      "  [ 84 104 103]\n",
      "  [ 86 104 103]\n",
      "  ...\n",
      "  [ 62  58  59]\n",
      "  [ 69  65  66]\n",
      "  [ 63  59  60]]\n",
      "\n",
      " [[ 84 104 103]\n",
      "  [ 85 105 104]\n",
      "  [ 87 105 104]\n",
      "  ...\n",
      "  [ 62  58  59]\n",
      "  [ 64  60  61]\n",
      "  [ 55  51  52]]]\n"
     ]
    }
   ],
   "source": [
    "ret, frame = video.read()\n",
    "print(frame)"
   ]
  },
  {
   "cell_type": "code",
   "execution_count": 33,
   "metadata": {},
   "outputs": [
    {
     "ename": "KeyboardInterrupt",
     "evalue": "",
     "output_type": "error",
     "traceback": [
      "\u001b[1;31m---------------------------------------------------------------------------\u001b[0m",
      "\u001b[1;31mKeyboardInterrupt\u001b[0m                         Traceback (most recent call last)",
      "\u001b[1;32m~\\AppData\\Local\\Temp/ipykernel_42924/1227497308.py\u001b[0m in \u001b[0;36m<module>\u001b[1;34m\u001b[0m\n\u001b[0;32m      1\u001b[0m \u001b[1;32mfor\u001b[0m \u001b[0mi\u001b[0m \u001b[1;32min\u001b[0m \u001b[0mrange\u001b[0m\u001b[1;33m(\u001b[0m\u001b[1;36m30\u001b[0m\u001b[1;33m)\u001b[0m\u001b[1;33m:\u001b[0m\u001b[1;33m\u001b[0m\u001b[1;33m\u001b[0m\u001b[0m\n\u001b[1;32m----> 2\u001b[1;33m     \u001b[0mret\u001b[0m\u001b[1;33m,\u001b[0m \u001b[0mframe\u001b[0m \u001b[1;33m=\u001b[0m \u001b[0mvideo\u001b[0m\u001b[1;33m.\u001b[0m\u001b[0mread\u001b[0m\u001b[1;33m(\u001b[0m\u001b[1;33m)\u001b[0m\u001b[1;33m\u001b[0m\u001b[1;33m\u001b[0m\u001b[0m\n\u001b[0m\u001b[0;32m      3\u001b[0m     \u001b[0mcv2\u001b[0m\u001b[1;33m.\u001b[0m\u001b[0mimshow\u001b[0m\u001b[1;33m(\u001b[0m\u001b[1;34m\"\"\u001b[0m \u001b[1;33m,\u001b[0m \u001b[0mframe\u001b[0m\u001b[1;33m)\u001b[0m\u001b[1;33m\u001b[0m\u001b[1;33m\u001b[0m\u001b[0m\n\u001b[0;32m      4\u001b[0m     \u001b[0mcv2\u001b[0m\u001b[1;33m.\u001b[0m\u001b[0mwaitKey\u001b[0m\u001b[1;33m(\u001b[0m\u001b[1;36m1\u001b[0m\u001b[1;33m)\u001b[0m\u001b[1;33m\u001b[0m\u001b[1;33m\u001b[0m\u001b[0m\n",
      "\u001b[1;31mKeyboardInterrupt\u001b[0m: "
     ]
    }
   ],
   "source": [
    "for i in range(30):\n",
    "    ret, frame = video.read()\n",
    "    cv2.imshow(\"\" , frame)\n",
    "    cv2.waitKey(1)"
   ]
  },
  {
   "cell_type": "code",
   "execution_count": 1,
   "metadata": {},
   "outputs": [
    {
     "name": "stdout",
     "output_type": "stream",
     "text": [
      "['__class__', '__delattr__', '__dict__', '__dir__', '__doc__', '__eq__', '__format__', '__ge__', '__getattribute__', '__getstate__', '__gt__', '__hash__', '__init__', '__init_subclass__', '__le__', '__lt__', '__module__', '__ne__', '__new__', '__reduce__', '__reduce_ex__', '__repr__', '__setattr__', '__setstate__', '__sizeof__', '__str__', '__subclasshook__', '__weakref__', '_after_fork', '_buffer', '_close', '_closed', '_feed', '_finalize_close', '_finalize_join', '_ignore_epipe', '_joincancelled', '_jointhread', '_maxsize', '_notempty', '_opid', '_poll', '_reader', '_recv_bytes', '_rlock', '_sem', '_send_bytes', '_start_thread', '_thread', '_wlock', '_writer', 'cancel_join_thread', 'close', 'empty', 'full', 'get', 'get_nowait', 'join_thread', 'put', 'put_nowait', 'qsize']\n"
     ]
    }
   ],
   "source": [
    "from multiprocessing import Queue\n",
    "q = Queue()\n",
    "print(dir(q))"
   ]
  },
  {
   "cell_type": "code",
   "execution_count": 1,
   "metadata": {},
   "outputs": [
    {
     "data": {
      "text/plain": [
       "1440"
      ]
     },
     "execution_count": 1,
     "metadata": {},
     "output_type": "execute_result"
    }
   ],
   "source": [
    "240*6"
   ]
  },
  {
   "cell_type": "code",
   "execution_count": 10,
   "metadata": {},
   "outputs": [
    {
     "data": {
      "text/plain": [
       "480.0"
      ]
     },
     "execution_count": 10,
     "metadata": {},
     "output_type": "execute_result"
    }
   ],
   "source": [
    "1440/3"
   ]
  },
  {
   "cell_type": "code",
   "execution_count": 3,
   "metadata": {},
   "outputs": [
    {
     "data": {
      "text/plain": [
       "840"
      ]
     },
     "execution_count": 3,
     "metadata": {},
     "output_type": "execute_result"
    }
   ],
   "source": [
    "140*6"
   ]
  },
  {
   "cell_type": "code",
   "execution_count": 11,
   "metadata": {},
   "outputs": [
    {
     "data": {
      "text/plain": [
       "280.0"
      ]
     },
     "execution_count": 11,
     "metadata": {},
     "output_type": "execute_result"
    }
   ],
   "source": [
    "840/3"
   ]
  },
  {
   "cell_type": "code",
   "execution_count": 16,
   "metadata": {},
   "outputs": [
    {
     "data": {
      "text/plain": [
       "False"
      ]
     },
     "execution_count": 16,
     "metadata": {},
     "output_type": "execute_result"
    }
   ],
   "source": [
    "\"Abc\".endswith(\"bsc\")"
   ]
  },
  {
   "cell_type": "code",
   "execution_count": 2,
   "metadata": {},
   "outputs": [],
   "source": [
    "with open(\"./btnEvent.py\" , \"r\" , encoding=\"utf8\") as f:\n",
    "    d = f.read()"
   ]
  },
  {
   "cell_type": "code",
   "execution_count": 10,
   "metadata": {},
   "outputs": [],
   "source": [
    "a = d.split('#showSetting17')[0]\n",
    "b = d.split('#showSetting17')[1]\n",
    "\n"
   ]
  },
  {
   "cell_type": "code",
   "execution_count": 11,
   "metadata": {},
   "outputs": [],
   "source": [
    "for i in range(2 , 33):\n",
    "    code = f'''    def showSetting01(self):\n",
    "        now = time.time()\n",
    "        if self.settingLayer.isHidden():\n",
    "            self.settingLayer.show()\n",
    "            self.settingLayer.resize(259 , 831)\n",
    "            self.settingLayer.move(500-76 , 80-10)\n",
    "            self.settingLayer.setStyleSheet('background-color: rgba(0, 52, 63, 255);')\n",
    "        else:\n",
    "            self.settingLayer.hide()\n",
    "            self.loadCameraSet(base = True)\n",
    "            self.settingLayer.resize(259 , 831)\n",
    "            self.settingLayer.move(1567 , 80)\n",
    "            self.settingLayer.setStyleSheet(u\"background-color: rgba(50, 50, 80, 50);\")'''\n",
    "    a+=code\n",
    "\n"
   ]
  },
  {
   "cell_type": "code",
   "execution_count": 21,
   "metadata": {},
   "outputs": [],
   "source": [
    "x = [f'        self.ui.cmraBt_{i:02d} = DragBtn(self.ui.widget_2)\\n        self.ui.cmraBt_{i:02d}.resize(51,30)\\n        self.ui.cmraBt_{i:02d}.move(int(20+50*{(i-1)%6}), int(60 + 40*{(i-1)//6}) )\\n        self.ui.cmraBt_{i:02d}.setIcon(QPixmap(u\"datas/images/bt1.png\"))\\n        self.ui.cmraBt_{i:02d}.setIconSize(QSize(28,28))\\n        self.ui.cmraBt_{i:02d}.setText(\"{i:02d}\")\\n        self.ui.cmraBt_{i:02d}.setStyleSheet(\"color: rgb(255, 255, 255);\")' for i in range(1 , 33)]"
   ]
  },
  {
   "cell_type": "code",
   "execution_count": 22,
   "metadata": {},
   "outputs": [],
   "source": [
    "d2 = a + \"\\n\".join(x) + b"
   ]
  },
  {
   "cell_type": "code",
   "execution_count": 12,
   "metadata": {},
   "outputs": [],
   "source": [
    "with open(\"./btnEvent2.py\" , \"w\") as f:\n",
    "    f.write(a+b)"
   ]
  },
  {
   "cell_type": "code",
   "execution_count": 24,
   "metadata": {},
   "outputs": [],
   "source": [
    "a = '''self.cameras = {\"cam01\" : self.ui.camVideo_01, \"cam02\" : self.ui.camVideo_02, \"cam03\" : self.ui.camVideo_03, \n",
    "                        \"cam04\" : self.ui.camVideo_04, \"cam05\" : self.ui.camVideo_05, \"cam06\" : self.ui.camVideo_06, \"cam07\" : self.ui.camVideo_07, \n",
    "                        \"cam08\" : self.ui.camVideo_08, \"cam09\" : self.ui.camVideo_09, \"cam10\" : self.ui.camVideo_10, \"cam11\" : self.ui.camVideo_11, \n",
    "                        \"cam12\" : self.ui.camVideo_12, \"cam13\" : self.ui.camVideo_13, \"cam14\" : self.ui.camVideo_14, \"cam15\" : self.ui.camVideo_15, \n",
    "                        \"cam16\" : self.ui.camVideo_16, \"cam17\" : self.ui.camVideo_17, \"cam18\" : self.ui.camVideo_18, \"cam19\" : self.ui.camVideo_19, \n",
    "                        \"cam20\" : self.ui.camVideo_20, \"cam21\" : self.ui.camVideo_21, \"cam22\" : self.ui.camVideo_22, \"cam23\" : self.ui.camVideo_23, \n",
    "                        \"cam24\" : self.ui.camVideo_24, \"cam25\" : self.ui.camVideo_25, \"cam26\" : self.ui.camVideo_26, \"cam27\" : self.ui.camVideo_27, \n",
    "                        \"cam28\" : self.ui.camVideo_28, \"cam29\" : self.ui.camVideo_29, \"cam30\" : self.ui.camVideo_30, \"cam31\" : self.ui.camVideo_31, \n",
    "                        \"cam32\" : self.ui.camVideo_32}'''"
   ]
  },
  {
   "cell_type": "code",
   "execution_count": 25,
   "metadata": {},
   "outputs": [],
   "source": [
    "a = a.replace('camVideo_' , 'widget_2')"
   ]
  },
  {
   "cell_type": "code",
   "execution_count": 27,
   "metadata": {},
   "outputs": [
    {
     "name": "stdout",
     "output_type": "stream",
     "text": [
      "self.cameras = {\"cam01\" : self.ui.widget_201, \"cam02\" : self.ui.widget_202, \"cam03\" : self.ui.widget_203, \n",
      "                        \"cam04\" : self.ui.widget_204, \"cam05\" : self.ui.widget_205, \"cam06\" : self.ui.widget_206, \"cam07\" : self.ui.widget_207, \n",
      "                        \"cam08\" : self.ui.widget_208, \"cam09\" : self.ui.widget_209, \"cam10\" : self.ui.widget_210, \"cam11\" : self.ui.widget_211, \n",
      "                        \"cam12\" : self.ui.widget_212, \"cam13\" : self.ui.widget_213, \"cam14\" : self.ui.widget_214, \"cam15\" : self.ui.widget_215, \n",
      "                        \"cam16\" : self.ui.widget_216, \"cam17\" : self.ui.widget_217, \"cam18\" : self.ui.widget_218, \"cam19\" : self.ui.widget_219, \n",
      "                        \"cam20\" : self.ui.widget_220, \"cam21\" : self.ui.widget_221, \"cam22\" : self.ui.widget_222, \"cam23\" : self.ui.widget_223, \n",
      "                        \"cam24\" : self.ui.widget_224, \"cam25\" : self.ui.widget_225, \"cam26\" : self.ui.widget_226, \"cam27\" : self.ui.widget_227, \n",
      "                        \"cam28\" : self.ui.widget_228, \"cam29\" : self.ui.widget_229, \"cam30\" : self.ui.widget_230, \"cam31\" : self.ui.widget_231, \n",
      "                        \"cam32\" : self.ui.widget_232}\n"
     ]
    }
   ],
   "source": [
    "print(a)\n"
   ]
  },
  {
   "cell_type": "code",
   "execution_count": 1,
   "metadata": {},
   "outputs": [
    {
     "data": {
      "text/plain": [
       "1"
      ]
     },
     "execution_count": 1,
     "metadata": {},
     "output_type": "execute_result"
    }
   ],
   "source": [
    "int(\"01\")"
   ]
  },
  {
   "cell_type": "code",
   "execution_count": 1,
   "metadata": {},
   "outputs": [
    {
     "data": {
      "text/plain": [
       "450000"
      ]
     },
     "execution_count": 1,
     "metadata": {},
     "output_type": "execute_result"
    }
   ],
   "source": [
    "3000*150"
   ]
  },
  {
   "cell_type": "code",
   "execution_count": 2,
   "metadata": {},
   "outputs": [
    {
     "data": {
      "text/plain": [
       "222.22222222222223"
      ]
     },
     "execution_count": 2,
     "metadata": {},
     "output_type": "execute_result"
    }
   ],
   "source": [
    "100000000/450000"
   ]
  },
  {
   "cell_type": "code",
   "execution_count": 4,
   "metadata": {},
   "outputs": [
    {
     "data": {
      "text/plain": [
       "1620.0"
      ]
     },
     "execution_count": 4,
     "metadata": {},
     "output_type": "execute_result"
    }
   ],
   "source": [
    "5400*3000/10000"
   ]
  },
  {
   "cell_type": "code",
   "execution_count": 2,
   "metadata": {},
   "outputs": [],
   "source": [
    "import numpy as np\n",
    "a = np.array([0,0,0,0])"
   ]
  },
  {
   "cell_type": "code",
   "execution_count": 3,
   "metadata": {},
   "outputs": [
    {
     "name": "stderr",
     "output_type": "stream",
     "text": [
      "C:\\Users\\user\\AppData\\Local\\Temp/ipykernel_23640/489317283.py:1: FutureWarning: elementwise comparison failed; returning scalar instead, but in the future will perform elementwise comparison\n",
      "  \"Abcd\" in a\n"
     ]
    },
    {
     "data": {
      "text/plain": [
       "False"
      ]
     },
     "execution_count": 3,
     "metadata": {},
     "output_type": "execute_result"
    }
   ],
   "source": [
    "\"Abcd\" in a"
   ]
  },
  {
   "cell_type": "code",
   "execution_count": null,
   "metadata": {},
   "outputs": [],
   "source": []
  }
 ],
 "metadata": {
  "interpreter": {
   "hash": "c7bcb5781954786268d66b5ec837f4fc1cff88812bb23a44c8cb860853184759"
  },
  "kernelspec": {
   "display_name": "Python 3.8.11 64-bit ('py382': conda)",
   "language": "python",
   "name": "python3"
  },
  "language_info": {
   "codemirror_mode": {
    "name": "ipython",
    "version": 3
   },
   "file_extension": ".py",
   "mimetype": "text/x-python",
   "name": "python",
   "nbconvert_exporter": "python",
   "pygments_lexer": "ipython3",
   "version": "3.8.11"
  },
  "orig_nbformat": 4
 },
 "nbformat": 4,
 "nbformat_minor": 2
}
